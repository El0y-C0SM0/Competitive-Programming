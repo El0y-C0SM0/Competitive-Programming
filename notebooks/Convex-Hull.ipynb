{
 "cells": [
  {
   "cell_type": "code",
   "execution_count": 1,
   "id": "43b517bd-1694-4a05-836f-548bf08177dc",
   "metadata": {},
   "outputs": [],
   "source": [
    "// Configuração do ambiente\n",
    "#include <bits/stdc++.h>\n",
    "\n",
    "using namespace std;"
   ]
  },
  {
   "cell_type": "markdown",
   "id": "54ae7d78-1d7b-41a8-b431-4545872ca182",
   "metadata": {},
   "source": [
    "# Convex Hull (Envoltório Convexo)"
   ]
  },
  {
   "cell_type": "markdown",
   "id": "8cac0301-be3d-42e0-a81e-c4dbe917434f",
   "metadata": {},
   "source": [
    "Um **envoltório convexo** (*Convex Hull*) é a menor figura convexa que contenha todos os pontos de um conjuto $N$ de pontos. Dada essa definição, os vertices desse evoltório serão necessáriamente pontos pertencentes à $N$. \n",
    "\n",
    "Um algoritmo de convex hull encontra um subconjuto $H$ de $N$ tal que $\\forall P(x, y) \\in H, P \\in \\text{envoltório convexo de N}$."
   ]
  },
  {
   "cell_type": "markdown",
   "id": "ce4b5007-68a7-4fb8-8cbc-3e5dcf21aad6",
   "metadata": {},
   "source": [
    "## Exemplo \n",
    "\n",
    "Dado $N=\\{(2, 2), (4, 10), (6, 6), (10, 6), (8, 4), (4, 14), (8, 16), (12, 16)\\}$, queremos achar o conjunto dos pontos que irá formar a menor figura convexa que contenha todos os pontos de $N$. Manualmente podemos desenhar ela, observe abaixo.\n",
    "\n",
    "![exemplo](images/convex-hull.png)\n",
    "\n",
    "Toda via conforme acrescentamos pontos à $N$ fica mais dificil a visualização."
   ]
  },
  {
   "cell_type": "markdown",
   "id": "0ebf1fee-2155-4a90-95bd-3e6641fd6694",
   "metadata": {},
   "source": [
    "# Grahan Scan\n",
    "\n",
    "**Complexidade:** $O(n)$"
   ]
  },
  {
   "cell_type": "code",
   "execution_count": 10,
   "id": "db8c27d8-e004-4cfd-8442-9bb13edad6c0",
   "metadata": {},
   "outputs": [],
   "source": [
    "int x = (1 + 1) \n",
    "    * 3;"
   ]
  },
  {
   "cell_type": "code",
   "execution_count": 11,
   "id": "9386ebeb-b602-4abb-ba82-bbdfdf132d99",
   "metadata": {},
   "outputs": [
    {
     "data": {
      "text/plain": [
       "6"
      ]
     },
     "execution_count": 11,
     "metadata": {},
     "output_type": "execute_result"
    }
   ],
   "source": [
    "x"
   ]
  },
  {
   "cell_type": "code",
   "execution_count": 2,
   "id": "8c0fadee-78e8-429d-b2f4-0e7558bdd8b3",
   "metadata": {},
   "outputs": [],
   "source": [
    "int orientation(pair<int, int> p1, pair<int, int> p2, pair<int, int> p3) {\n",
    "    int x = (p2.second - p1.second) * (p3.first - p2.first) - (p2.first - p1.first) * (p3.second - p2.second);\n",
    "\n",
    "    return x;\n",
    "}"
   ]
  },
  {
   "cell_type": "code",
   "execution_count": 3,
   "id": "c5fac3d7-ab28-4e1b-8543-bc9d542f331d",
   "metadata": {},
   "outputs": [],
   "source": [
    "int distPow(pair<int, int> &p1, pair<int, int> &p2) {\n",
    "    return (p1.first - p2.first) * (p1.first - p2.first) + \n",
    "                (p1.second - p2.second) * (p1.second - p2.second);\n",
    "}"
   ]
  },
  {
   "cell_type": "code",
   "execution_count": 4,
   "id": "6454e7a2-dccc-4b08-9c97-5976e234c6e3",
   "metadata": {},
   "outputs": [],
   "source": [
    "void grahan_scan(vector<pair<int, int>> &fig, vector<pair<int, int>> &hull) {\n",
    "    pair<int, int> p0 = *min_element(fig.begin(), fig.end(), [&](auto &a, auto &b){\n",
    "        return make_pair(a.second, a.first) < make_pair(b.second, b.first);\n",
    "    });\n",
    "\n",
    "    sort(fig.begin(), fig.end(), [&p0](auto &a, auto &b){\n",
    "        int o = orientation(p0, a, b);\n",
    "\n",
    "        if(o == 0) \n",
    "            return distPow(p0, a) < distPow(p0, b);\n",
    "        \n",
    "        return o < 0;\n",
    "    });\n",
    "    \n",
    "    hull.push_back(fig[0]); hull.push_back(fig[1]);\n",
    "    \n",
    "    uint k = hull.size();\n",
    "    for(uint i{2}; fig[0] != fig[i] && i < fig.size(); i++) {\n",
    "        while (k >= 2 && orientation(hull[k - 2], hull[k - 1], fig[i]) > 0) {\n",
    "            hull.pop_back();\n",
    "            k--;\n",
    "        }\n",
    "        hull.push_back(fig[i]);\n",
    "        k++;\n",
    "    }\n",
    "}"
   ]
  },
  {
   "cell_type": "markdown",
   "id": "af2e3c4b-ca04-4b31-aa0e-7f049ce010b8",
   "metadata": {},
   "source": [
    "## Rodando exemplo"
   ]
  },
  {
   "cell_type": "code",
   "execution_count": 5,
   "id": "5279d4d9-f195-494d-acba-cf894083eaa6",
   "metadata": {},
   "outputs": [
    {
     "name": "stdout",
     "output_type": "stream",
     "text": [
      "(2, 2)\n",
      "(8, 4)\n",
      "(10, 6)\n",
      "(12, 16)\n",
      "(8, 16)\n",
      "(4, 14)\n"
     ]
    }
   ],
   "source": [
    "vector<pair<int, int>> N{\n",
    "    {2, 2},\n",
    "    {4, 10},\n",
    "    {6, 6},\n",
    "    {10, 6},\n",
    "    {8, 4},\n",
    "    {4, 14},\n",
    "    {8, 16},\n",
    "    {12, 16}\n",
    "};\n",
    "\n",
    "vector<pair<int, int>> H;\n",
    "\n",
    "grahan_scan(N, H);\n",
    "\n",
    "for(auto p : H) cout << '(' << p.first << \", \" << p.second << ')' << endl;"
   ]
  },
  {
   "cell_type": "code",
   "execution_count": null,
   "id": "221203fb-a79c-4ac5-8b1e-ed12ed5c8efa",
   "metadata": {},
   "outputs": [],
   "source": []
  }
 ],
 "metadata": {
  "kernelspec": {
   "display_name": "C++17",
   "language": "C++17",
   "name": "xcpp17"
  },
  "language_info": {
   "codemirror_mode": "text/x-c++src",
   "file_extension": ".cpp",
   "mimetype": "text/x-c++src",
   "name": "c++",
   "version": "17"
  }
 },
 "nbformat": 4,
 "nbformat_minor": 5
}
