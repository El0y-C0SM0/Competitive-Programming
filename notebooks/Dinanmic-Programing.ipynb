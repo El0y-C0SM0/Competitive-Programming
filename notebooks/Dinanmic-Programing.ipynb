{
 "cells": [
  {
   "cell_type": "code",
   "execution_count": 1,
   "id": "7f61c7c7-c107-4407-859b-668d452f77b1",
   "metadata": {},
   "outputs": [],
   "source": [
    "// Configuração do ambiente\n",
    "#include <bits/stdc++.h>\n",
    "\n",
    "#define endl '\\n'\n",
    "\n",
    "using namespace std;"
   ]
  },
  {
   "cell_type": "markdown",
   "id": "da42916c-fedc-4c81-bdbe-6bb2fe15dc73",
   "metadata": {},
   "source": [
    "# Progamação Dinâmica"
   ]
  },
  {
   "cell_type": "markdown",
   "id": "f78a8cef-b5e7-46fc-a058-f59f53352b88",
   "metadata": {},
   "source": [
    "## Definição"
   ]
  },
  {
   "cell_type": "markdown",
   "id": "fb4c83ad-0bf5-4d87-b92e-6dadde47e597",
   "metadata": {},
   "source": [
    "A Programação Dinâmica é um estratégia muito usada em programação competitiva, ela consiste em armazenar resultados de uma função em uma extrutura, visando assim evitar ter que recalcula-los.\n",
    "\n",
    "Podemos dizer que a programação dinâmica se baseia em:\n",
    "- Dividir um problema em sub-problemas;\n",
    "- estabelecer a **relação de recorrência**;\n",
    "- trocar memória por processamento ao invés de recalcular cada etapa. (**memorização**)\n",
    "\n",
    "A **memorização** consiste em salvar os resultados já calculados, geralmente em arrays de uma ou mais dimensões. Com isso, <ins>na hora de recalculá-los pode-se acessar a resultado armazenado</ins> , o que é mais rápido do que calcular o resultado novamente.\n",
    "\n",
    "Outro conceito importante é de **relações de recorrência**, essas relações acontecem quando uma função pode ser escrita <ins>de maneira recursiva</ins>. Podem haver condicionais que afetem como será recursão e sempre deve haver um caso base."
   ]
  },
  {
   "cell_type": "markdown",
   "id": "6195995c-34f5-48ca-97d3-06c54cd0da9b",
   "metadata": {},
   "source": [
    "### Quando usar?"
   ]
  },
  {
   "cell_type": "markdown",
   "id": "daaed7ee-e799-44d9-b7ea-9c84fde520ec",
   "metadata": {},
   "source": [
    "Para sabermos se o uso de DP é indicado para a solução de um problema, devemos analisar a existência de **subestruturas ótimas** e **sobreposição**. Esses possuem as seguintes definições:\n",
    "\n",
    "- **subestruturas ótimas** existem quando pode-se construir uma solução ótima para o problema a partir da solução dos sub-problemas dele.\n",
    "- **sobreposição** existe se há ao menos um par de entradas distintas que executam o mesmo sub-problema, com o mesmo estado.\n"
   ]
  },
  {
   "cell_type": "markdown",
   "id": "150f4e8b-70d0-4dbe-b2d2-c5dac855de05",
   "metadata": {},
   "source": [
    "### Abordagens"
   ]
  },
  {
   "cell_type": "markdown",
   "id": "6594e796-3d7f-40cb-b415-d350d89fe95e",
   "metadata": {},
   "source": [
    "Existem duas abordagens para DP:\n",
    "\n",
    "- **Top-Down**: seja $x$ um elemento passado para a função $dp()$, essa abordagem irá buscar os valores das dependencias de $x$ na memória, não os encontrando, irá calcula-los.\n",
    "    - Pode economizar processamento caso a DP seja *esparça*, não há mais calculo do que necessário, é tudo \"sob-demanda\";\n",
    "    - Economiza memória se não é necessário calcular todas os estados (DP *esparça*);\n",
    "    - Dispensa decidir a ordem dos calculos.\n",
    "    - Pode ser mais lenta se os subproblemas forém revisitados muitas vezes.\n",
    "- **Botton-Up**: os valores são calculados na ordem que são necessários, dessa forma, ao passar $dp(x)$ já teremos salvo na memória $dp(x-1)$, $dp(x-2)$ e etc. Essa abordagem dispensa a recursão, é calculada a tabela com os dados de maneira iterativa.\n",
    "    - Pode ter constantes bem menor por dispensar custo da recursão;\n",
    "    - Permite muitas otimizações (*buscas binárias*, *soma de prefixos*, etc.);\n",
    "    - Permite economizar memória por saber a ordem de acesso."
   ]
  },
  {
   "cell_type": "markdown",
   "id": "11900f90-b237-4114-8444-1299e6bf47b5",
   "metadata": {},
   "source": [
    "Alguns dos algoritmos pensados através de DP são:\n",
    "\n",
    "- [Knapsack](#Knapsack)\n",
    "- [Subset Sum](#Subset-Sum)\n",
    "- [LCS e SCS](#LCS-e-SCS)"
   ]
  },
  {
   "cell_type": "markdown",
   "id": "17f0cea0-c292-4523-848d-fe19f4ceaa7e",
   "metadata": {},
   "source": [
    "## Knapsack"
   ]
  },
  {
   "cell_type": "markdown",
   "id": "5234859e-0582-49b0-ae71-45a496a17917",
   "metadata": {},
   "source": [
    "O problema da mochila (Knapsack) é um dos mais clássicos problemas de dp. Generalisando ele podemos entender que <span style=\"background-color:#d4d4d4\">trata-se de encontrar, dada uma coleção de itens com peso e valores, o maior valor somado de um conjunto de itens dentro de um limite de peso.</span>"
   ]
  },
  {
   "cell_type": "markdown",
   "id": "90a64eeb-3330-45af-89f9-651f93d6f307",
   "metadata": {},
   "source": [
    "É possivel encontrar a solução ao analisar-mos a seguinte relação de recorrência:\n",
    "\n",
    "$$\n",
    "dp[i,cap]=\\begin{cases}\n",
    "                    0\\ \\text{se não há mais itens} \\\\\n",
    "                    max(dp[i+1,j], dp[i+1, cap - pesos[i]] + valores[i])\n",
    "                \\end{cases}\n",
    "$$\n",
    "\n",
    "Nessa relação, `valores` guarda os valores de todos os itens e `pesos` guarda os pesos. O que fazemos é, dado o item item `i` e a capacidade `cap` de peso, analisar qual caminho irá nos retornar o maior valor, se é melhor deixar o item para trás (`dp[i+1,j]`) ou pegar o item (`dp[i+1, cap - pesos[i]] + valores[i]`)."
   ]
  },
  {
   "cell_type": "code",
   "execution_count": 2,
   "id": "f9637cec-d0e4-4063-a40c-bbe716a04195",
   "metadata": {},
   "outputs": [],
   "source": [
    "int t[100][100];// Defina os tamanhos confome seu problema, pode usar vector\n",
    "memset(t, -1, sizeof t); // lembre-se de definir os valores de t com -1;"
   ]
  },
  {
   "cell_type": "code",
   "execution_count": 3,
   "id": "01a2799f-10c7-40eb-a313-5d0cbc43fe56",
   "metadata": {},
   "outputs": [],
   "source": [
    "// ps = pesos, vals = valores, fiz isso por legibilidade\n",
    "int knapsack(int i, int cap, vector<int> &ps, vector<int> &vals) {\n",
    "    if(cap < 0) return -0x3f3f3f3f;\n",
    "    if(i == vals.size()) return 0;\n",
    "    if(t[i][cap] > -1) return t[i][cap];\n",
    "\n",
    "    int x = knapsack(i + 1, cap, ps, vals);\n",
    "    int y = knapsack(i + 1, cap - ps[i], ps, vals) + vals[i];\n",
    "    return t[i][cap] = max(x, y);\n",
    "}"
   ]
  },
  {
   "cell_type": "markdown",
   "id": "fb155525-2dab-4556-9628-cd8c450e078a",
   "metadata": {},
   "source": [
    "Uma adição natural à lógica do problema da mochila é tentar obter o conjuto dos itens \"armazenados\" na mochila. Encontramos eles da seguinte forma:"
   ]
  },
  {
   "cell_type": "code",
   "execution_count": 4,
   "id": "f54fa0e9-c2a2-4f61-8d8d-56964fcb46af",
   "metadata": {},
   "outputs": [],
   "source": [
    "unordered_set<int> selecionados; // conjunto dos indices do itens que serão selecionados"
   ]
  },
  {
   "cell_type": "code",
   "execution_count": 5,
   "id": "13d2805f-2490-44a0-ade6-eeaa19414c6b",
   "metadata": {},
   "outputs": [],
   "source": [
    "// ps = pesos, vals = valores, fiz isso por legibilidade\n",
    "void retrieve(int i, int cap, vector<int> &ps, vector<int> &vals) {\n",
    "    if(i == vals.size()) return;\n",
    "\n",
    "    if(cap >= ps[i]) { // Dividi o if para legibilidade\n",
    "        if(knapsack(i + 1, cap, ps, vals) < knapsack(i + 1, cap - ps[i], ps, vals) + vals[i]){\n",
    "            selecionados.insert(i);\n",
    "            return retrieve(i + 1, cap - ps[i], ps, vals);\n",
    "        }\n",
    "    }\n",
    "\n",
    "    return retrieve(i + 1, cap, ps, vals);\n",
    "}"
   ]
  },
  {
   "cell_type": "code",
   "execution_count": 6,
   "id": "7b775c5a-621c-4d72-84d5-b9c3955e8b87",
   "metadata": {},
   "outputs": [
    {
     "name": "stdout",
     "output_type": "stream",
     "text": [
      "550\n",
      "2 1 \n"
     ]
    }
   ],
   "source": [
    "vector<int> pesos{5, 4, 2}, valores{500, 300, 250};\n",
    "\n",
    "cout << knapsack(0, 6, pesos, valores) << endl;\n",
    "\n",
    "retrieve(0, 6, pesos, valores);\n",
    "for(auto i : selecionados) cout << i << ' ';\n",
    "cout << endl;"
   ]
  },
  {
   "cell_type": "markdown",
   "id": "1553936a-b024-40d9-b9b3-57a8d9e5056c",
   "metadata": {},
   "source": [
    "## Subset Sum \n",
    "\n",
    "**Complexidade:** $O(n 10^{\\log c})$"
   ]
  },
  {
   "cell_type": "markdown",
   "id": "f13d5380-fb5f-47fb-a01a-f27f22cc11d8",
   "metadata": {},
   "source": [
    "Este é um exemplo de aplicação de DP. <span style=\"background-color:#d4d4d4\">Dado um vetor $p[1..n] \\in \\mathbb{N}$ e um numero natural $c$, queremos achar um subconjunto $X$ tal que $p(X)=c$.</span>\n",
    "\n",
    "Obs: $p(X)=\\sum_{(i \\in X)}p[i]$\n",
    "\n",
    "Formalisando a lógica, temos:"
   ]
  },
  {
   "cell_type": "markdown",
   "id": "2a1e8aaf-77a1-406d-8587-624c56213188",
   "metadata": {},
   "source": [
    "$$\n",
    " t[i,j] =   \\begin{cases}\n",
    "               t[i-1,j] &\\text{if } p[i]>j \\\\\n",
    "               t[i-1,j] \\lor t[i-1,j-p[i]] &\\text{if } p[i]\\leq j\n",
    "            \\end{cases}\n",
    "$$"
   ]
  },
  {
   "cell_type": "markdown",
   "id": "ee3483fc-b1db-4b2e-ba85-06b413d377a0",
   "metadata": {},
   "source": [
    "Confira a implementação abaixo, os parametros `p` e `c` são o vetor de valores (peso) e o alvo."
   ]
  },
  {
   "cell_type": "code",
   "execution_count": 7,
   "id": "c8016f66-c517-4f70-a168-e9d9796ee47a",
   "metadata": {},
   "outputs": [],
   "source": [
    "bool subset_sum(const vector<int> &p, const int c) {\n",
    "    int n = p.size();\n",
    "    if(c < 0) return false;\n",
    "\n",
    "    vector t(n + 1, vector<char>(c + 1, false));\n",
    "    \n",
    "    for(auto &i : t) i[0] = true;\n",
    "\n",
    "    for(int i{1}; i <= n; i++) {\n",
    "        for(int j{1}; j <= c; j++) {\n",
    "            int b = t[i - 1][j];\n",
    "            if(j >= p[i - 1]) b = t[i - 1][j] || t[i - 1][j - p[i - 1]];\n",
    "            t[i][j] = b;\n",
    "        }\n",
    "    }\n",
    "\n",
    "    return t[n][c];\n",
    "}"
   ]
  },
  {
   "cell_type": "code",
   "execution_count": 8,
   "id": "d2fa10d3-91da-4d5e-85c3-89a33f1b1b84",
   "metadata": {},
   "outputs": [
    {
     "name": "stdout",
     "output_type": "stream",
     "text": [
      "1\n"
     ]
    }
   ],
   "source": [
    "vector<int> p{4, 2, 1, 3};\n",
    "int c{10};\n",
    "\n",
    "cout << subset_sum(p, c) << endl;"
   ]
  },
  {
   "cell_type": "code",
   "execution_count": 9,
   "id": "bd80eaad-5974-4bb3-8e1c-df9c443c42cb",
   "metadata": {},
   "outputs": [],
   "source": [
    "bool subset_sum(const vector<int> &p, const int c, set<int> &s) {\n",
    "    int n = p.size();\n",
    "    if(c < 0) return false;\n",
    "\n",
    "    vector t(n + 1, vector<char>(c + 1, false));\n",
    "    \n",
    "    for(auto &i : t) i[0] = true;\n",
    "\n",
    "    for(int i{1}; i <= n; i++) {\n",
    "        for(int j{1}; j <= c; j++) {\n",
    "            int b = t[i - 1][j];\n",
    "            if(j >= p[i - 1]) b = t[i - 1][j] || t[i - 1][j - p[i - 1]];\n",
    "            t[i][j] = b;\n",
    "        }\n",
    "    }\n",
    "\n",
    "    if (!t[n][c]) return t[n][c];\n",
    "\n",
    "    int m = n, b = c;\n",
    "    while (m && b) {\n",
    "        if(t[m][b] != t[m - 1][b]) {\n",
    "            s.insert(p[m - 1]);\n",
    "            b -= p[m - 1];\n",
    "        }\n",
    "\n",
    "        m--;\n",
    "    }\n",
    "\n",
    "    return t[n][c];\n",
    "}"
   ]
  },
  {
   "cell_type": "code",
   "execution_count": 10,
   "id": "59fb53e3-1ff8-42f9-93c0-6a6f0d35888e",
   "metadata": {},
   "outputs": [
    {
     "name": "stdout",
     "output_type": "stream",
     "text": [
      "3\n",
      "1 2 4 \n"
     ]
    }
   ],
   "source": [
    "vector<int> p2{4, 2, 1, 3};\n",
    "int c2{7};\n",
    "set<int> s;\n",
    "subset_sum(p2, c2, s);\n",
    "\n",
    "cout << s.size() << endl;\n",
    "for(auto i : s) cout << i << ' ';\n",
    "cout << endl;"
   ]
  },
  {
   "cell_type": "markdown",
   "id": "42b1b202-a00c-4140-a768-8b5a8b424199",
   "metadata": {},
   "source": [
    "## LCS e SCS"
   ]
  },
  {
   "cell_type": "markdown",
   "id": "b2fb5aec-b01c-4311-899f-e255fb8ca6bb",
   "metadata": {},
   "source": [
    "Para entender o que é LCS (longest common subsequence) e SCS (shortest common supersequence), é necessário entender primeiro que uma <span style=\"background-color:#d4d4d4\">subsequencia é uma sequência presente em 2 ou mais strings na mesma ordem relativa mas **não necessariamente contíguas**</span>. Por outro lado, <span style=\"background-color:#d4d4d4\">Uma supersequência é, dada 2 ou mais strings, a menor string que contenha as outras como subsequência, na mesma ordem relativa</span>."
   ]
  },
  {
   "cell_type": "markdown",
   "id": "47db2be5-64bd-4029-b21b-2776d31652dc",
   "metadata": {},
   "source": [
    "Por exemplo, dadas as strings `s1 = \"ATCG\"` e `s2 = \"BTGH\"`, `lcs(s1, s2) = \"TG\"` e uma possibilidade de scs é `scs(s1, s2) = \"ABTCGH\"`."
   ]
  },
  {
   "cell_type": "markdown",
   "id": "0fb9aba8-9311-4334-a18f-3ad3314edabb",
   "metadata": {},
   "source": [
    "### LCS"
   ]
  },
  {
   "cell_type": "markdown",
   "id": "17686d78-be47-44f5-a3ee-bb7e0e53a860",
   "metadata": {},
   "source": [
    "A construção da maior subsequêcia comum é através de uma tabela com valores já calculados para saber o escolha mais vantajosa (Pogramção Dinâmica). A lógica do algoritmo pode ser dividida em 2 etapas, uma que é a construção da tabela dos valores e outra que é a construção da string a partir dessa tábela. Podemos enunciar o algoritmo como:"
   ]
  },
  {
   "cell_type": "markdown",
   "id": "5aa0f4e7-b7a1-4428-a8a9-8b7ffe4f2de4",
   "metadata": {},
   "source": [
    "I. Relação de recorrência na construção da tabela:\n",
    "\n",
    "$$\n",
    "    t[i,j] =\\begin{cases}\n",
    "                0 & \\text{se } i \\geq |s1| \\lor j \\geq |s2| \\\\\n",
    "                t[i+1,j+1] + 1 & \\text{se } s1[i] = s2[j] \\\\\n",
    "                max(t[i+1,j],t[i,j+1]) & \\text{se } s1[i] \\neq s2[j]\n",
    "            \\end{cases}\n",
    "$$\n",
    "\n",
    "II. Com a tabeça construida, vamos construir da string lcs:\n",
    "\n",
    "$$\n",
    "    t[i,j] =\\begin{cases}\n",
    "                ''\\ '' & \\text{se } i \\geq |s1| \\lor j \\geq |s2| \\\\\n",
    "                ''s[i]'' + t[i+1,j+1] & \\text{se } s1[i] = s2[j] \\\\\n",
    "                t[i+1,j] & \\text{se } t[i+1,j] \\geq t[i,j+1]\\\\\n",
    "                t[i,j+1] & \\text{se } t[i+1,j] < t[i,j+1]\n",
    "            \\end{cases}\n",
    "$$"
   ]
  },
  {
   "cell_type": "code",
   "execution_count": 11,
   "id": "92ac6696-eb2b-4212-b8ad-f99363e4e631",
   "metadata": {},
   "outputs": [],
   "source": [
    "string lcs(string &s1, string &s2) {\n",
    "    vector t(s1.size() + 1, vector<int>(s2.size() + 1, 0));\n",
    "\n",
    "    for(int i = s1.size() - 1; i >= 0; i--) {\n",
    "        for(int j = s2.size() - 1; j >= 0; j--) {\n",
    "            if(s1[i] == s2[j]) t[i][j] = t[i + 1][j + 1] + 1;\n",
    "            else t[i][j] = max(t[i + 1][j], t[i][j + 1]); \n",
    "        }\n",
    "    }\n",
    "\n",
    "    string s;\n",
    "    int i = 0, j = 0;\n",
    "\n",
    "    while(i < s1.size() && j < s2.size()) {\n",
    "        if(s1[i] == s2[j]) {\n",
    "            s.push_back(s1[i]);\n",
    "            i++; j++;\n",
    "        } else if(t[i + 1][j] >= t[i][j + 1]) i++;\n",
    "        else j++;\n",
    "    }\n",
    "\n",
    "    return s;\n",
    "}"
   ]
  },
  {
   "cell_type": "code",
   "execution_count": 12,
   "id": "61ba185a-acdf-4691-8122-dcca95479613",
   "metadata": {},
   "outputs": [
    {
     "data": {
      "text/plain": [
       "\"TG\""
      ]
     },
     "execution_count": 12,
     "metadata": {},
     "output_type": "execute_result"
    }
   ],
   "source": [
    "string s1 = \"ATCG\", s2 = \"BTGH\";\n",
    "lcs(s1, s2)"
   ]
  },
  {
   "cell_type": "markdown",
   "id": "99b51c68-f65c-4a17-b7a3-6e22f1e37c65",
   "metadata": {},
   "source": [
    "### SCS"
   ]
  },
  {
   "cell_type": "markdown",
   "id": "2c3117a7-dd25-4b38-84e6-1a8ff083b267",
   "metadata": {},
   "source": [
    "A construção da menor super-sequência é, assim como uma lcs, feito a partir de uma tabela com valores que já calculamos. Esses valores nos dizem se é vantajoso adicionar determinado caractere na string agora ou se é melhor adiciona-lo depois. Após construção dessa tabela inicial, contruimos a string. É possivel enunciar as regras de contrução da tabela da seguinte maneira:"
   ]
  },
  {
   "cell_type": "markdown",
   "id": "e7c52107-7aa1-45d5-bfa5-f03888db892a",
   "metadata": {},
   "source": [
    "I. Relação de recorrência na construção da tabela $t$:\n",
    "\n",
    "\n",
    "$$\n",
    "    t[i,j] =\\begin{cases}\n",
    "                j & i = 0\\\\\n",
    "                i & j = 0\\\\\n",
    "                1 + t[i - 1][j - 1] & s1[i - 1] = s2[j - 1] \\\\\n",
    "                1 + min(t[i - 1][j], t[i][j - 1]) & s1[i - 1] \\neq s2[j - 1]\n",
    "            \\end{cases}\n",
    "$$\n",
    "\n",
    "II. Construção da string `scs`, sendo `i` e `j` iniciados como `i=|s1|`, `j=|s2|` e `k` o tamanho da scs informado por `t[i,j]`, é definida por:\n",
    "\n",
    "$$\n",
    "    scs(k, i, j) =\\begin{cases}\n",
    "                \\emptyset & k \\leq 0\\\\\n",
    "                s1(i-1) + scs(k-1,i-1,j-1) & i > 0 \\text{ and } j > 0 \\text{ and } s1(i-1) = s2(j-1) \\\\\n",
    "                s2(j-1) + scs(k-1,i,j-1) & j > 0 \\text{ and } t[i,j] - 1 = t[i,j-1] \\\\\n",
    "                s1(i-1) + scs(k-1,i-1,j) & i > 0 \\text{ and } t[i,j] - 1 \\neq t[i,j-1]\n",
    "            \\end{cases}\n",
    "$$"
   ]
  },
  {
   "cell_type": "code",
   "execution_count": 13,
   "id": "1db31044-6abe-4013-9edd-b9ba5c54b807",
   "metadata": {},
   "outputs": [],
   "source": [
    "string scs(string &s1, string &s2) {\n",
    "    int m = s1.size(), n = s2.size();\n",
    "    vector t(m + 1, vector<int>(n + 1, 0));\n",
    "\n",
    "    for(int i{0}; i <= m; i++) {\n",
    "        for(int j{0}; j <= n; j++) {\n",
    "            if(!i) t[0][j] = j;\n",
    "            else if(!j) t[i][0] = i;\n",
    "            else if(s1[i - 1] == s2[j - 1]) t[i][j] = 1 + t[i - 1][j - 1];\n",
    "            else t[i][j] = 1 + min(t[i - 1][j], t[i][j - 1]);\n",
    "        }\n",
    "    }\n",
    "\n",
    "    string s = \"\";\n",
    "    int len = t[m][n], i = m, j = n;\n",
    "\n",
    "    while(len--) {\n",
    "        if(i && j && s1[i - 1] == s2[j - 1]) {\n",
    "            s += s1[i - 1];\n",
    "            i--; j--;\n",
    "        } else if(j && t[i][j] - 1 == t[i][j - 1]) {\n",
    "            s += s2[j - 1];\n",
    "            j--;\n",
    "        } else if(i) {\n",
    "            s += s1[i - 1];\n",
    "            i--;\n",
    "        }\n",
    "    }\n",
    "\n",
    "    reverse(s.begin(), s.end());\n",
    "\n",
    "    return s;\n",
    "}"
   ]
  },
  {
   "cell_type": "code",
   "execution_count": 14,
   "id": "4c87dbe1-dc14-41e3-bb91-99aee053fe7e",
   "metadata": {},
   "outputs": [
    {
     "data": {
      "text/plain": [
       "\"ABTCGH\""
      ]
     },
     "execution_count": 14,
     "metadata": {},
     "output_type": "execute_result"
    }
   ],
   "source": [
    "scs(s1, s2)"
   ]
  },
  {
   "cell_type": "markdown",
   "id": "3b1dc5c1-1df5-40a0-adf5-de5830379437",
   "metadata": {},
   "source": [
    "## Fontes"
   ]
  },
  {
   "cell_type": "markdown",
   "id": "a0f8d864-15b1-4d17-82f7-3939ebbf8a8e",
   "metadata": {},
   "source": [
    "- [Programação Dinâmica 8.1 (video)](https://www.youtube.com/watch?v=KmOIGwEqFWQ)\n",
    "- [Programação Dinâmica 8.2 (video)](https://youtu.be/IGBXQVZblxg?si=lHFYrpGTNa76_2e8)\n",
    "- [Subset Sum -- USP](https://www.ime.usp.br/~pf/analise_de_algoritmos/aulas/mochila-subsetsum.html)\n",
    "- Halim, Steven., Halim, Felix., Effendy, Suhendry. **Competitive Programming 4: The Lower Bound of Programming Contests in the 2020s.** chapter 1-4. Singapore: Lulu Press, Incorporated, 2018."
   ]
  }
 ],
 "metadata": {
  "kernelspec": {
   "display_name": "C++17",
   "language": "C++17",
   "name": "xcpp17"
  },
  "language_info": {
   "codemirror_mode": "text/x-c++src",
   "file_extension": ".cpp",
   "mimetype": "text/x-c++src",
   "name": "c++",
   "version": "17"
  }
 },
 "nbformat": 4,
 "nbformat_minor": 5
}
