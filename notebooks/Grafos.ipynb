{
 "cells": [
  {
   "cell_type": "markdown",
   "id": "b1ae13ce-4dec-4268-9593-dbcb28a98c4e",
   "metadata": {},
   "source": [
    "# Grafos"
   ]
  },
  {
   "cell_type": "code",
   "execution_count": 1,
   "id": "7d796fee-8eaa-4f17-bbfe-7f5e5bf3f194",
   "metadata": {},
   "outputs": [],
   "source": [
    "// Configuração do ambiente\n",
    "#include <bits/stdc++.h>\n",
    "\n",
    "#define endl '\\n'\n",
    "\n",
    "using namespace std;"
   ]
  },
  {
   "cell_type": "markdown",
   "id": "1969ee36-869a-41c0-be9b-8325348aed86",
   "metadata": {},
   "source": [
    "## Ordenação Topológica\n",
    "\n",
    "**Complexidade**: $O(n)$"
   ]
  },
  {
   "cell_type": "markdown",
   "id": "50c7ffd4-bfbb-4352-b983-9e73ab0f0a23",
   "metadata": {},
   "source": [
    "> Ordenação Topológica de um Grafo Aciclico Direcionado (GAD) é dispor seus vertices em uma ordem linear onde um vertice aparece antes de seus decendentes."
   ]
  },
  {
   "cell_type": "markdown",
   "id": "4f0e5fb2-9307-40d8-9c99-a1ca3bc58a3d",
   "metadata": {},
   "source": [
    "Um GAD possui 1 ou mais ordenações topológicas. Se um **grafo não é um GAD não é possivel fazer a ordenação**. \n",
    "\n",
    "Um exemplo de ordenação topológica é organizar uma lista de tarefas que podem depender de outras.\n",
    "\n",
    "Os melhores algoritmos para lidar com esse problema são **Busca em Profundida (DFS)** e **Algoritmo de Kahn**,  ambos operam em complexidade linear."
   ]
  },
  {
   "cell_type": "markdown",
   "id": "2cd3388d-6e15-404e-9f92-a9ab2c65a364",
   "metadata": {},
   "source": [
    "### DFS na Ordenação Topológica"
   ]
  },
  {
   "cell_type": "markdown",
   "id": "a262e82e-7f92-4fcc-a9fd-46ce4ff219cf",
   "metadata": {},
   "source": [
    "A dfs visita cada vertice e marca ele temporariamente (com -1), depois visita todos os vertices da qual **esse depende** e marca ele como visitado. Se por algum motivo ela visitar um vertice marcado temporariamente, é sinal que o grafo possui ao menos um ciclo."
   ]
  },
  {
   "cell_type": "code",
   "execution_count": 2,
   "id": "05865857-0a12-4b7c-881c-aaaa24c81e9e",
   "metadata": {},
   "outputs": [
    {
     "name": "stderr",
     "output_type": "stream",
     "text": [
      "\u001b[1minput_line_10:3:58: \u001b[0m\u001b[0;1;31merror: \u001b[0m\u001b[1mfunction definition is not allowed here\u001b[0m\n",
      "int dfs(int i, vector<vector<int>> &g, vector<int> &vis) {\n",
      "\u001b[0;1;32m                                                         ^\n",
      "\u001b[0m"
     ]
    },
    {
     "ename": "Interpreter Error",
     "evalue": "",
     "output_type": "error",
     "traceback": [
      "Interpreter Error: "
     ]
    }
   ],
   "source": [
    "vector<int> to;\n",
    "\n",
    "int dfs(int i, vector<vector<int>> &g, vector<int> &vis) {\n",
    "    if(vis[i] == -1) return false;\n",
    "\n",
    "    if(!vis[i]) {\n",
    "        vis[i] = -1;\n",
    "        for(auto &j : g[i]) dfs(j, g, vis);\n",
    "        vis[i] = 1;\n",
    "        to.push_back(i);\n",
    "    }\n",
    "\n",
    "    return true;\n",
    "}"
   ]
  },
  {
   "cell_type": "markdown",
   "id": "25fc3bd9-3755-4663-aad4-e15f9eabca89",
   "metadata": {},
   "source": [
    "### Algoritmo de Kahn"
   ]
  },
  {
   "cell_type": "markdown",
   "id": "89f36cae-f9b3-46ad-be05-5cf7af738b2a",
   "metadata": {},
   "source": [
    "O algoritmo de Kahn lê todos os vertices de grau 0 (não dependem de outros) e \"remove\" eles da lista de dependencia de outros vertices (apenas marca como visitado para não voltar nele e diminui o grau dos dependentes. Isso através de uma espécie de BFS como visto abaixo. Assim sempre está lendo os vertices de grau 0."
   ]
  },
  {
   "cell_type": "code",
   "execution_count": null,
   "id": "54b09deb-7ed6-4c29-9806-dab293344db6",
   "metadata": {},
   "outputs": [],
   "source": [
    "vector<int> to; // Vetor que receberá os vertices ordenados\n",
    "\n",
    "bool kahn(vector<vector<int>> &g, vector<int> &graus, vector<int> &vis) {\n",
    "    queue<int> q;\n",
    "\n",
    "    for(int i{0}; i < static_cast<int>(g.size()); i++) if(!graus[i]) q.push(i);\n",
    "\n",
    "    while(!q.empty()) {\n",
    "        int x = q.front(); q.pop();\n",
    "        to.push_back(x);\n",
    "        vis[x] = 1;\n",
    "        \n",
    "        for(int i : g[x]) if(!vis[i] && --graus[i] == 0)\n",
    "            q.push(i);\n",
    "    }\n",
    "\n",
    "    return to.size() == g.size();\n",
    "}"
   ]
  },
  {
   "cell_type": "markdown",
   "id": "b6d21dbc-21ef-454c-baf5-7e5d68776607",
   "metadata": {},
   "source": [
    "## Pontos de Articulação"
   ]
  },
  {
   "cell_type": "markdown",
   "id": "2f5f7260-7c1a-4fc9-af49-fc4293a20fd5",
   "metadata": {},
   "source": []
  },
  {
   "cell_type": "code",
   "execution_count": null,
   "id": "3e541728-5f6a-4246-bac5-6de1a01ec768",
   "metadata": {},
   "outputs": [],
   "source": [
    "// Pré definições para o algoritmo\n",
    "#define ROOT 0\n",
    "\n",
    "set<int> aps;"
   ]
  },
  {
   "cell_type": "code",
   "execution_count": null,
   "id": "159fe1ec-bc55-442f-82ba-87d74f0434d8",
   "metadata": {},
   "outputs": [],
   "source": [
    "void articulationPoints(int v, int d, vector<vector<int>> &g, vector<int> &low, vector<int> &depth) {\n",
    "    depth[v] = low[v] = d;\n",
    "\n",
    "    int children{0};\n",
    "    for(auto &i : g[v]) {\n",
    "        if(depth[i] == depth[v] - 1) continue;\n",
    "\n",
    "        if(depth[i] == -1) {\n",
    "            articulationPoints(i, d + 1, g, low, depth);\n",
    "            low[v] = min(low[v], low[i]);\n",
    "\n",
    "            if(low[i] >= depth[v] && v != ROOT)\n",
    "                aps.insert(v);\n",
    "\n",
    "            children++;\n",
    "        } else low[v] = min(low[v], depth[i]);\n",
    "    }\n",
    "\n",
    "    if(v == ROOT && children > 1) aps.insert(v);\n",
    "}"
   ]
  }
 ],
 "metadata": {
  "kernelspec": {
   "display_name": "C++17",
   "language": "C++17",
   "name": "xcpp17"
  },
  "language_info": {
   "codemirror_mode": "text/x-c++src",
   "file_extension": ".cpp",
   "mimetype": "text/x-c++src",
   "name": "c++",
   "version": "17"
  }
 },
 "nbformat": 4,
 "nbformat_minor": 5
}
